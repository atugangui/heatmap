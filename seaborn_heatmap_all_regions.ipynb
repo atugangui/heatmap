{
  "nbformat": 4,
  "nbformat_minor": 0,
  "metadata": {
    "colab": {
      "name": "seaborn-heatmap-all-regions.ipynb",
      "provenance": [],
      "collapsed_sections": [],
      "toc_visible": true,
      "authorship_tag": "ABX9TyNpdVBOFwGmIc4mQMUbqwS5",
      "include_colab_link": true
    },
    "kernelspec": {
      "display_name": "Python 3",
      "name": "python3"
    }
  },
  "cells": [
    {
      "cell_type": "markdown",
      "metadata": {
        "id": "view-in-github",
        "colab_type": "text"
      },
      "source": [
        "<a href=\"https://colab.research.google.com/github/tugangui/heatmap/blob/main/seaborn_heatmap_all_regions.ipynb\" target=\"_parent\"><img src=\"https://colab.research.google.com/assets/colab-badge.svg\" alt=\"Open In Colab\"/></a>"
      ]
    },
    {
      "cell_type": "code",
      "metadata": {
        "id": "ELQcySXsMo3A",
        "cellView": "form"
      },
      "source": [
        "#@title\n",
        "import pandas as pd\n",
        "import matplotlib.pyplot as plt\n",
        "from matplotlib.patches import Rectangle\n",
        "import matplotlib.patches as mpatches\n",
        "import seaborn as sb\n",
        "import numpy as np\n",
        "from urllib.request import urlopen\n",
        "import json\n",
        "import re"
      ],
      "execution_count": 1,
      "outputs": []
    },
    {
      "cell_type": "code",
      "metadata": {
        "id": "Q_K-9gFtbXnj"
      },
      "source": [
        "#@title\n",
        "all_trio = [\n",
        "    'SW180509-01A_aavretro',\n",
        "    'SW180509-02A_enva',\n",
        "    'SW180509-05A_enva',\n",
        "    'SW180510-01A_enva',\n",
        "    #'SW180606-01A_aav8',\n",
        "    #'SW180606-01A_aavretro',\n",
        "    #'SW180606-01A_enva',\n",
        "    'SW180606-05A_aav8',\n",
        "    'SW180606-05A_aavretro',\n",
        "    'SW180606-05A_enva',\n",
        "    'SW181217-01A_aav8',\n",
        "    'SW181217-01A_aavretro',\n",
        "    'SW181217-01A_enva',\n",
        "    'SW181217-02A_enva',\n",
        "    'SW181219-01A_enva',\n",
        "    'SW181219-02A_enva',\n",
        "    'SW181219-03A_enva',\n",
        "    'SW181219-04A_enva'\n",
        "]\n",
        "\n",
        "all_rabies = [\n",
        "    'SW180509-02A_enva',\n",
        "    'SW180509-05A_enva',\n",
        "    'SW180510-01A_enva',\n",
        "    #'SW180606-01A_enva',\n",
        "    'SW180606-05A_enva',\n",
        "    'SW181217-01A_enva',\n",
        "    'SW181217-02A_enva',\n",
        "    'SW181219-02A_enva',\n",
        "    'SW181219-03A_enva',\n",
        "    'SW181219-04A_enva',\n",
        "    'SW181219-01A_enva'\n",
        "]\n",
        "\n",
        "all_aav2retro = [\n",
        "    'SW180509-01A_aavretro',\n",
        "    #'SW180606-01A_aavretro',\n",
        "    'SW180606-05A_aavretro',\n",
        "    'SW181217-01A_aavretro'\n",
        "]\n",
        "\n",
        "all_aav8 = [\n",
        "    #'SW180606-01A_aav8',\n",
        "    'SW180606-05A_aav8',\n",
        "    'SW181217-01A_aav8'\n",
        "]"
      ],
      "execution_count": 2,
      "outputs": []
    },
    {
      "cell_type": "code",
      "metadata": {
        "id": "FjTcEKPMQJht",
        "cellView": "form"
      },
      "source": [
        "#@title\n",
        "codeurl = urlopen('https://raw.githubusercontent.com/tugangui/heatmap/main/code.json')\n",
        "code = json.loads(codeurl.read())\n",
        "regionsurl = urlopen('https://raw.githubusercontent.com/tugangui/heatmap/main/regions.json')\n",
        "regions = json.loads(regionsurl.read())\n",
        "mappingsurl = urlopen('https://raw.githubusercontent.com/tugangui/heatmap/main/mappings.json')\n",
        "mappings = json.loads(mappingsurl.read())\n",
        "mappings = mappings['cembaMappings']['mappings'][0]\n",
        "blobs = {}\n",
        "structuresToBrainAreasDf = pd.read_csv('https://github.com/tugangui/heatmap/raw/main/structures.csv')\n",
        "\n",
        "\n",
        "def splitSlice(sliceName):\n",
        "    match = re.match(r\"([0-9]+)([A-Z]+)\", sliceName, re.I)\n",
        "    items = ()\n",
        "    if match:\n",
        "        items = match.groups()\n",
        "    return items[0]\n",
        "\n",
        "for key in mappings:\n",
        "    lowerbound = int(mappings[key]['lowerBound'])\n",
        "    upperbound = int(mappings[key]['upperBound'])\n",
        "    sliceNo = splitSlice(key)\n",
        "    for i in range(lowerbound, upperbound):\n",
        "      blobs[i] = sliceNo\n",
        "\n",
        "def getBrainAreaID(key):\n",
        "    row = structuresToBrainAreasDf.loc[structuresToBrainAreasDf.iloc[:,1]== key]\n",
        "    if row.empty:\n",
        "      return \"\"\n",
        "    else:\n",
        "      return (row.iloc[:,3]).iloc[0]"
      ],
      "execution_count": 3,
      "outputs": []
    },
    {
      "cell_type": "markdown",
      "metadata": {
        "id": "eRDUJ4rLRtO2"
      },
      "source": [
        "# Heatmaps using ARA ROI and all Cases"
      ]
    },
    {
      "cell_type": "code",
      "metadata": {
        "id": "0GtY83uhEjLq",
        "cellView": "form"
      },
      "source": [
        "#@title\n",
        "def create_heatmap(files, tracer):\n",
        "    df = pd.concat((pd.read_csv('https://github.com/tugangui/heatmap/raw/main/'+f+'.csv') for f in files))\n",
        "    df_m = df.copy()\n",
        "    df_m = df_m[(df_m['ARA Level'] > 26) & (df_m['ARA Level'] < 99)]\n",
        "    df_m['BRAIN AREA ID'] = df_m['REGION'].map(getBrainAreaID)\n",
        "    brain_area_ids = df_m['BRAIN AREA ID']\n",
        "    df_m = df_m.groupby(['Project Name','Tracer','REGION', 'BRAIN AREA ID'])[['OVERLAP']].sum()\n",
        "    df_m = df_m.pivot_table(index=['BRAIN AREA ID', 'REGION'], columns=['Tracer','Project Name'], values='OVERLAP')\n",
        "    plt.figure(figsize=(20, 60))\n",
        "\n",
        "    cpalette = ''\n",
        "    if tracer == 'EnvA Rabies':\n",
        "        cpalette = \"Reds\"\n",
        "        row_colors_dict = dict(zip(brain_area_ids.unique(), 'rkrkrkrkr'))\n",
        "    if tracer == 'AAV8':\n",
        "        cpalette = 'Greens'\n",
        "        row_colors_dict = dict(zip(brain_area_ids.unique(), 'gkgkgkgkg'))\n",
        "    if tracer == 'AAV2Retro':\n",
        "        cpalette = 'Purples'\n",
        "        row_colors_dict = dict(zip(brain_area_ids.unique(), 'mkmkmkmkm'))\n",
        "    elif tracer == 'TRIO':\n",
        "        cpalette = 'YlGnBu'\n",
        "        row_colors_dict = dict(zip(brain_area_ids.unique(), 'bkbkbkbkb'))\n",
        "    g = sb.heatmap(df_m, cmap=cpalette, annot=False, fmt=\"g\",annot_kws={'size':10}, linewidths=1, cbar_kws={'label': 'Cell Bodies'})\n",
        "\n",
        "    for tick_label in g.axes.get_yticklabels():\n",
        "      tick_text = tick_label.get_text().split(\"-\")[0]\n",
        "      if(len(tick_text)>0):\n",
        "        tick_label.set_color(row_colors_dict[tick_text])\n",
        "\n",
        "    if tracer == 'TRIO':\n",
        "          #AAV8\n",
        "          for i in range(2):\n",
        "            for j in range(700):\n",
        "              g.add_patch(Rectangle((i, j), 1, 1, fill=False, edgecolor='#98e698', lw=1))\n",
        "          \n",
        "          #AAVRetro\n",
        "          for i in range(2,5):\n",
        "            for j in range(700):\n",
        "              g.add_patch(Rectangle((i, j), 1, 1, fill=False, edgecolor='#d9b3ff', lw=1))\n",
        "          \n",
        "          #EnvA RB\n",
        "          for i in range(5, len(files)):\n",
        "            for j in range(700):\n",
        "              g.add_patch(Rectangle((i, j), 1, 1, fill=False, edgecolor='#ff8080', lw=1))\n",
        "\n",
        "\n",
        "    # axes\n",
        "    plt.xlabel('Case ID')\n",
        "    plt.ylabel('Region')\n",
        "\n",
        "    # title\n",
        "    plt.title(tracer + 'Overlap Data', loc='center')\n",
        "\n",
        "    plt.savefig('/ARA_ROI_ALL_CASES_ENVA.png')\n",
        "    plt.show()"
      ],
      "execution_count": 17,
      "outputs": []
    },
    {
      "cell_type": "markdown",
      "metadata": {
        "id": "esOTdwypR3YO"
      },
      "source": [
        "Heatmap with all TRIO cases, all channels"
      ]
    },
    {
      "cell_type": "code",
      "metadata": {
        "id": "Qu-z4QUIt1bi",
        "cellView": "form"
      },
      "source": [
        "#@title\n",
        "create_heatmap(all_trio, 'TRIO')"
      ],
      "execution_count": null,
      "outputs": []
    },
    {
      "cell_type": "markdown",
      "metadata": {
        "id": "hCVh-ZfvR8Db"
      },
      "source": [
        "TVA-GFP virus"
      ]
    },
    {
      "cell_type": "code",
      "metadata": {
        "id": "lbvcJE6AKkig",
        "cellView": "form"
      },
      "source": [
        "#@title\n",
        "create_heatmap(all_aav8, 'AAV8')"
      ],
      "execution_count": null,
      "outputs": []
    },
    {
      "cell_type": "markdown",
      "metadata": {
        "id": "t3FKK7l8SG6e"
      },
      "source": [
        "Retro-Cre"
      ]
    },
    {
      "cell_type": "code",
      "metadata": {
        "id": "_Y85OAWvt7k4",
        "cellView": "form"
      },
      "source": [
        "#@title\n",
        "create_heatmap(all_aav2retro, 'AAV2Retro')"
      ],
      "execution_count": null,
      "outputs": []
    },
    {
      "cell_type": "markdown",
      "metadata": {
        "id": "n4Tq1iOrSMZd"
      },
      "source": [
        "EnvA Rabies"
      ]
    },
    {
      "cell_type": "code",
      "metadata": {
        "id": "XRUqMhXqt_5v",
        "cellView": "form"
      },
      "source": [
        "#@title\n",
        "create_heatmap(all_rabies, 'EnvA Rabies')"
      ],
      "execution_count": null,
      "outputs": []
    },
    {
      "cell_type": "markdown",
      "metadata": {
        "id": "oLWniGhESbLb"
      },
      "source": [
        "# ARA ROI/ARA Levels\n",
        "## SW181217-01A\n"
      ]
    },
    {
      "cell_type": "code",
      "metadata": {
        "id": "oi7hgU68-sXj"
      },
      "source": [
        "def create_heatmap_with_levels(file, tracer):\n",
        "    df = pd.read_csv('https://github.com/tugangui/heatmap/raw/main/'+file+'.csv')\n",
        "    df_m = df.copy()\n",
        "    df_m = df_m[(df_m['ARA Level'] > 26) & (df_m['ARA Level'] < 99)]\n",
        "    df_m['BRAIN AREA ID'] = df_m['REGION'].map(getBrainAreaID)\n",
        "    brain_area_ids = df_m['BRAIN AREA ID']\n",
        "    df_m = df_m.groupby(['ARA Level','REGION', 'BRAIN AREA ID'])[['OVERLAP']].sum()\n",
        "    df_m = df_m.pivot_table(index=['BRAIN AREA ID', 'REGION'], columns=['ARA Level'], values='OVERLAP')\n",
        "    plt.figure(figsize=(20, 60))\n",
        "\n",
        "    cpalette = ''\n",
        "    if tracer == 'EnvA Rabies':\n",
        "        cpalette = \"Reds\"\n",
        "        row_colors_dict = dict(zip(brain_area_ids.unique(), 'rkrkrkrkr'))\n",
        "    if tracer == 'AAV8':\n",
        "        cpalette = 'Greens'\n",
        "        row_colors_dict = dict(zip(brain_area_ids.unique(), 'gkgkgkgkg'))\n",
        "    if tracer == 'AAV2Retro':\n",
        "        cpalette = 'Purples'\n",
        "        row_colors_dict = dict(zip(brain_area_ids.unique(), 'mkmkmkmkm'))\n",
        "    elif tracer == 'TRIO':\n",
        "        cpalette = 'YlGnBu'\n",
        "        row_colors_dict = dict(zip(brain_area_ids.unique(), 'bkbkbkbkb'))\n",
        "    g = sb.heatmap(df_m, cmap=cpalette, annot=False, fmt=\"g\",annot_kws={'size':10}, linewidths=1, cbar_kws={'label': 'Cell Bodies'})\n",
        "\n",
        "    if tracer == 'TRIO':\n",
        "          #AAV8\n",
        "          for i in range(2):\n",
        "            for j in range(700):\n",
        "              g.add_patch(Rectangle((i, j), 1, 1, fill=False, edgecolor='#98e698', lw=1))\n",
        "          \n",
        "          #AAVRetro\n",
        "          for i in range(2,5):\n",
        "            for j in range(700):\n",
        "              g.add_patch(Rectangle((i, j), 1, 1, fill=False, edgecolor='#d9b3ff', lw=1))\n",
        "          \n",
        "          #EnvA RB\n",
        "          for i in range(5, len(files)):\n",
        "            for j in range(700):\n",
        "              g.add_patch(Rectangle((i, j), 1, 1, fill=False, edgecolor='#ff8080', lw=1))\n",
        "\n",
        "\n",
        "    # axes\n",
        "    plt.xlabel('ARA Level')\n",
        "    plt.ylabel('ROI')\n",
        "\n",
        "    # title\n",
        "    caseId = file.split('_')[0]\n",
        "    plt.title(caseId + ' ' + tracer + ' Overlap Data', loc='center')\n",
        "    plt.savefig('/ARA_ROI_ARA_LEVELS_' + caseId + '_' + tracer + '.png')\n",
        "    #plt.show()"
      ],
      "execution_count": 23,
      "outputs": []
    },
    {
      "cell_type": "markdown",
      "metadata": {
        "id": "eyR9HM5OSnV6"
      },
      "source": [
        "EnvA Rabies"
      ]
    },
    {
      "cell_type": "code",
      "metadata": {
        "id": "DKT-31nBA-r4"
      },
      "source": [
        "for fileName in all_rabies:\n",
        "  create_heatmap_with_levels(fileName, 'EnvA Rabies')"
      ],
      "execution_count": null,
      "outputs": []
    },
    {
      "cell_type": "markdown",
      "metadata": {
        "id": "k2L98FzXSvrH"
      },
      "source": [
        "Retro-Cre"
      ]
    },
    {
      "cell_type": "code",
      "metadata": {
        "id": "oV1ZxwIHiYJS"
      },
      "source": [
        "for fileName in all_aav2retro:\n",
        "  create_heatmap_with_levels(fileName, 'AAV2Retro')"
      ],
      "execution_count": null,
      "outputs": []
    },
    {
      "cell_type": "markdown",
      "metadata": {
        "id": "qHP_NcKoSzIb"
      },
      "source": [
        "TVA-GFP"
      ]
    },
    {
      "cell_type": "code",
      "metadata": {
        "id": "ch_7eupiieLo"
      },
      "source": [
        "for fileName in all_aav8:\n",
        "  create_heatmap_with_levels('SW181217-01A_aav8', 'AAV8')"
      ],
      "execution_count": null,
      "outputs": []
    },
    {
      "cell_type": "markdown",
      "metadata": {
        "id": "tY2D4TSSS5cp"
      },
      "source": [
        "# ARA ROI and Cemba slices\n",
        "## SW181217-01A"
      ]
    },
    {
      "cell_type": "code",
      "metadata": {
        "id": "HMdfTxOTNClT"
      },
      "source": [
        "def get_cemba_slice(level):\n",
        "    return ((level - 21) //6 ) + 1"
      ],
      "execution_count": 29,
      "outputs": []
    },
    {
      "cell_type": "code",
      "metadata": {
        "id": "xHQwo5XUISGy"
      },
      "source": [
        "def create_heatmap_with_cemba(file, tracer):\n",
        "    df = pd.read_csv('https://github.com/tugangui/heatmap/raw/main/'+file+'.csv')\n",
        "    df_m = df.copy()\n",
        "    df_m['BRAIN AREA ID'] = df_m['REGION'].map(getBrainAreaID)\n",
        "    df_m['CEMBA SLICE'] = df_m['ARA Level'].map(get_cemba_slice)\n",
        "    brain_area_ids = df_m['BRAIN AREA ID']\n",
        "    df_m = df_m.groupby(['CEMBA SLICE','REGION', 'BRAIN AREA ID'])[['OVERLAP']].sum()\n",
        "    df_m = df_m.pivot_table(index=['BRAIN AREA ID', 'REGION'], columns=['CEMBA SLICE'], values='OVERLAP')\n",
        "    plt.figure(figsize=(20, 60))\n",
        "\n",
        "    cpalette = ''\n",
        "    if tracer == 'EnvA Rabies':\n",
        "        cpalette = \"Reds\"\n",
        "        row_colors_dict = dict(zip(brain_area_ids.unique(), 'rkrkrkrkr'))\n",
        "    if tracer == 'AAV8':\n",
        "        cpalette = 'Greens'\n",
        "        row_colors_dict = dict(zip(brain_area_ids.unique(), 'gkgkgkgkg'))\n",
        "    if tracer == 'AAV2Retro':\n",
        "        cpalette = 'Purples'\n",
        "        row_colors_dict = dict(zip(brain_area_ids.unique(), 'mkmkmkmkm'))\n",
        "    elif tracer == 'TRIO':\n",
        "        cpalette = 'YlGnBu'\n",
        "        row_colors_dict = dict(zip(brain_area_ids.unique(), 'bkbkbkbkb'))\n",
        "    g = sb.heatmap(df_m, cmap=cpalette, annot=False, fmt=\"g\",annot_kws={'size':10}, linewidths=1, cbar_kws={'label': 'Cell Bodies'})\n",
        "\n",
        "    if tracer == 'TRIO':\n",
        "          #AAV8\n",
        "          for i in range(2):\n",
        "            for j in range(700):\n",
        "              g.add_patch(Rectangle((i, j), 1, 1, fill=False, edgecolor='#98e698', lw=1))\n",
        "          \n",
        "          #AAVRetro\n",
        "          for i in range(2,5):\n",
        "            for j in range(700):\n",
        "              g.add_patch(Rectangle((i, j), 1, 1, fill=False, edgecolor='#d9b3ff', lw=1))\n",
        "          \n",
        "          #EnvA RB\n",
        "          for i in range(5, len(files)):\n",
        "            for j in range(700):\n",
        "              g.add_patch(Rectangle((i, j), 1, 1, fill=False, edgecolor='#ff8080', lw=1))\n",
        "\n",
        "\n",
        "    # axes\n",
        "    plt.xlabel('Cemba slice')\n",
        "    plt.ylabel('ROI')\n",
        "\n",
        "    # title\n",
        "    caseId = file.split('_')[0]\n",
        "    plt.title(caseId + ' ' + tracer + ' Overlap Data', loc='center')\n",
        "    plt.savefig('/ARA_ROI_CEMBA_SLICES_' + caseId + '_' + tracer + '.png')\n",
        "    plt.show()"
      ],
      "execution_count": 30,
      "outputs": []
    },
    {
      "cell_type": "markdown",
      "metadata": {
        "id": "A-8l0N-nTDcm"
      },
      "source": [
        "EnvA Rabies"
      ]
    },
    {
      "cell_type": "code",
      "metadata": {
        "id": "zAh08MTGLRyb"
      },
      "source": [
        "for fileName in all_rabies:\n",
        "  create_heatmap_with_cemba(fileName, 'EnvA Rabies')"
      ],
      "execution_count": null,
      "outputs": []
    },
    {
      "cell_type": "markdown",
      "metadata": {
        "id": "_DPcub1BTFPj"
      },
      "source": [
        "TVA-GFP"
      ]
    },
    {
      "cell_type": "code",
      "metadata": {
        "id": "rJxXg0LlOf4T"
      },
      "source": [
        "for fileName in all_aav8:\n",
        "  create_heatmap_with_cemba(fileName, 'AAV8')"
      ],
      "execution_count": null,
      "outputs": []
    },
    {
      "cell_type": "markdown",
      "metadata": {
        "id": "H4MbT6Y9THTD"
      },
      "source": [
        "Retro-Cre"
      ]
    },
    {
      "cell_type": "code",
      "metadata": {
        "id": "XIim5ZacOkgo"
      },
      "source": [
        "for fileName in all_aav2retro:\n",
        "  create_heatmap_with_cemba(fileName, 'AAV2Retro')"
      ],
      "execution_count": null,
      "outputs": []
    },
    {
      "cell_type": "markdown",
      "metadata": {
        "id": "R4eWKv72TLrq"
      },
      "source": [
        "# ARA ROI/Cemba Slices, Ipsilateral & Contralateral\n",
        "## SW181217-01A"
      ]
    },
    {
      "cell_type": "code",
      "metadata": {
        "id": "tYxr2X7W3Cr6"
      },
      "source": [
        "def create_heatmap_with_levels_hemisphere(file, tracer, hemisphere):\n",
        "    df = pd.read_csv('https://github.com/tugangui/heatmap/raw/main/'+file+'.csv')\n",
        "    df_m = df.copy()\n",
        "    df_m = df_m[~df_m['(HEMISPHERE:R:G:B)'].str.contains(hemisphere)]\n",
        "    compression_opts = dict(method='zip',archive_name='out.csv')  \n",
        "    df_m.to_csv('out.zip',compression=compression_opts)\n",
        "    df_m = df_m[(df_m['ARA Level'] > 26) & (df_m['ARA Level'] < 99)]\n",
        "    df_m['BRAIN AREA ID'] = df_m['REGION'].map(getBrainAreaID)\n",
        "    brain_area_ids = df_m['BRAIN AREA ID']\n",
        "    df_m = df_m.groupby(['ARA Level','REGION', 'BRAIN AREA ID'])[['OVERLAP']].sum()\n",
        "    df_m = df_m.pivot_table(index=['BRAIN AREA ID', 'REGION'], columns=['ARA Level'], values='OVERLAP')\n",
        "    plt.figure(figsize=(20, 60))\n",
        "\n",
        "    cpalette = ''\n",
        "    if tracer == 'EnvA Rabies':\n",
        "        cpalette = \"Reds\"\n",
        "        row_colors_dict = dict(zip(brain_area_ids.unique(), 'rkrkrkrkr'))\n",
        "    if tracer == 'AAV8':\n",
        "        cpalette = 'Greens'\n",
        "        row_colors_dict = dict(zip(brain_area_ids.unique(), 'gkgkgkgkg'))\n",
        "    if tracer == 'AAV2Retro':\n",
        "        cpalette = 'Purples'\n",
        "        row_colors_dict = dict(zip(brain_area_ids.unique(), 'mkmkmkmkm'))\n",
        "    elif tracer == 'TRIO':\n",
        "        cpalette = 'YlGnBu'\n",
        "        row_colors_dict = dict(zip(brain_area_ids.unique(), 'bkbkbkbkb'))\n",
        "    g = sb.heatmap(df_m, cmap=cpalette, annot=False, fmt=\"g\",annot_kws={'size':10}, linewidths=1, cbar_kws={'label': 'Cell Bodies'})\n",
        "\n",
        "    if tracer == 'TRIO':\n",
        "          #AAV8\n",
        "          for i in range(2):\n",
        "            for j in range(700):\n",
        "              g.add_patch(Rectangle((i, j), 1, 1, fill=False, edgecolor='#98e698', lw=1))\n",
        "          \n",
        "          #AAVRetro\n",
        "          for i in range(2,5):\n",
        "            for j in range(700):\n",
        "              g.add_patch(Rectangle((i, j), 1, 1, fill=False, edgecolor='#d9b3ff', lw=1))\n",
        "          \n",
        "          #EnvA RB\n",
        "          for i in range(5, len(files)):\n",
        "            for j in range(700):\n",
        "              g.add_patch(Rectangle((i, j), 1, 1, fill=False, edgecolor='#ff8080', lw=1))\n",
        "\n",
        "\n",
        "    # axes\n",
        "    plt.xlabel('ARA Level')\n",
        "    plt.ylabel('ROI')\n",
        "\n",
        "    # title\n",
        "    caseId = file.split('_')[0]\n",
        "    if(hemisphere == 'r'):\n",
        "      plt.title(caseId + ' ' + tracer + ' Overlap Data: Contralateral', loc='center')\n",
        "      plt.savefig('/ARA_ROI_CEMBA_SLICES_' + caseId + '_' + tracer + '_Contralateral.png')\n",
        "    else:\n",
        "      plt.title(caseId + ' ' + tracer + ' Overlap Data: Ipsilateral', loc='center')\n",
        "      plt.savefig('/ARA_ROI_CEMBA_SLICES_' + caseId + '_' + tracer + '_Ipsilateral.png')\n",
        "\n",
        "    plt.show()"
      ],
      "execution_count": 36,
      "outputs": []
    },
    {
      "cell_type": "markdown",
      "metadata": {
        "id": "F-n0lHSmTaYd"
      },
      "source": [
        "EnvA Rabies"
      ]
    },
    {
      "cell_type": "code",
      "metadata": {
        "id": "yM3xcI1m5Ibq"
      },
      "source": [
        "for fileName in all_rabies:\n",
        "  create_heatmap_with_levels_hemisphere(fileName, 'EnvA Rabies', 'l')\n",
        "  create_heatmap_with_levels_hemisphere(fileName, 'EnvA Rabies', 'r')"
      ],
      "execution_count": null,
      "outputs": []
    },
    {
      "cell_type": "code",
      "metadata": {
        "id": "O8rP88EtAb3e"
      },
      "source": [
        "for fileName in all_aav2retro:\n",
        "  create_heatmap_with_levels_hemisphere(fileName, 'AAV2Retro', 'l')\n",
        "  create_heatmap_with_levels_hemisphere(fileName, 'AAV2Retro', 'r')"
      ],
      "execution_count": null,
      "outputs": []
    },
    {
      "cell_type": "code",
      "metadata": {
        "id": "zEAdBf6nAhca"
      },
      "source": [
        "for fileName in all_aav8:\n",
        "  create_heatmap_with_levels_hemisphere(fileName, 'AAV8', 'l')\n",
        "  create_heatmap_with_levels_hemisphere(fileName, 'AAV8', 'r')"
      ],
      "execution_count": null,
      "outputs": []
    }
  ]
}